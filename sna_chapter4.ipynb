{
 "cells": [
  {
   "cell_type": "code",
   "execution_count": 1,
   "id": "1e802c56-96e3-40d7-802e-eda7e2f0aea9",
   "metadata": {},
   "outputs": [
    {
     "name": "stderr",
     "output_type": "stream",
     "text": [
      "\n",
      "Bad key text.latex.unicode in file C:\\Miniconda3\\envs\\sps620env\\lib\\site-packages\\matplotlib\\mpl-data\\stylelib\\_classic_test.mplstyle, line 112 ('text.latex.unicode : False # use \"ucs\" and \"inputenc\" LaTeX packages for handling')\n",
      "You probably need to get an updated matplotlibrc file from\n",
      "https://github.com/matplotlib/matplotlib/blob/v3.5.3/matplotlibrc.template\n",
      "or from the matplotlib source distribution\n",
      "\n",
      "Bad key text.latex.preview in file C:\\Miniconda3\\envs\\sps620env\\lib\\site-packages\\matplotlib\\mpl-data\\stylelib\\_classic_test.mplstyle, line 125 ('text.latex.preview : False')\n",
      "You probably need to get an updated matplotlibrc file from\n",
      "https://github.com/matplotlib/matplotlib/blob/v3.5.3/matplotlibrc.template\n",
      "or from the matplotlib source distribution\n",
      "\n",
      "Bad key mathtext.fallback_to_cm in file C:\\Miniconda3\\envs\\sps620env\\lib\\site-packages\\matplotlib\\mpl-data\\stylelib\\_classic_test.mplstyle, line 157 ('mathtext.fallback_to_cm : True  # When True, use symbols from the Computer Modern')\n",
      "You probably need to get an updated matplotlibrc file from\n",
      "https://github.com/matplotlib/matplotlib/blob/v3.5.3/matplotlibrc.template\n",
      "or from the matplotlib source distribution\n",
      "\n",
      "Bad key savefig.jpeg_quality in file C:\\Miniconda3\\envs\\sps620env\\lib\\site-packages\\matplotlib\\mpl-data\\stylelib\\_classic_test.mplstyle, line 420 ('savefig.jpeg_quality: 95       # when a jpeg is saved, the default quality parameter.')\n",
      "You probably need to get an updated matplotlibrc file from\n",
      "https://github.com/matplotlib/matplotlib/blob/v3.5.3/matplotlibrc.template\n",
      "or from the matplotlib source distribution\n",
      "\n",
      "Bad key savefig.frameon in file C:\\Miniconda3\\envs\\sps620env\\lib\\site-packages\\matplotlib\\mpl-data\\stylelib\\_classic_test.mplstyle, line 423 ('savefig.frameon : True')\n",
      "You probably need to get an updated matplotlibrc file from\n",
      "https://github.com/matplotlib/matplotlib/blob/v3.5.3/matplotlibrc.template\n",
      "or from the matplotlib source distribution\n",
      "\n",
      "Bad key pgf.debug in file C:\\Miniconda3\\envs\\sps620env\\lib\\site-packages\\matplotlib\\mpl-data\\stylelib\\_classic_test.mplstyle, line 444 ('pgf.debug           : False')\n",
      "You probably need to get an updated matplotlibrc file from\n",
      "https://github.com/matplotlib/matplotlib/blob/v3.5.3/matplotlibrc.template\n",
      "or from the matplotlib source distribution\n",
      "\n",
      "Bad key verbose.level in file C:\\Miniconda3\\envs\\sps620env\\lib\\site-packages\\matplotlib\\mpl-data\\stylelib\\_classic_test.mplstyle, line 475 ('verbose.level  : silent      # one of silent, helpful, debug, debug-annoying')\n",
      "You probably need to get an updated matplotlibrc file from\n",
      "https://github.com/matplotlib/matplotlib/blob/v3.5.3/matplotlibrc.template\n",
      "or from the matplotlib source distribution\n",
      "\n",
      "Bad key verbose.fileo in file C:\\Miniconda3\\envs\\sps620env\\lib\\site-packages\\matplotlib\\mpl-data\\stylelib\\_classic_test.mplstyle, line 476 ('verbose.fileo  : sys.stdout  # a log filename, sys.stdout or sys.stderr')\n",
      "You probably need to get an updated matplotlibrc file from\n",
      "https://github.com/matplotlib/matplotlib/blob/v3.5.3/matplotlibrc.template\n",
      "or from the matplotlib source distribution\n",
      "\n",
      "Bad key keymap.all_axes in file C:\\Miniconda3\\envs\\sps620env\\lib\\site-packages\\matplotlib\\mpl-data\\stylelib\\_classic_test.mplstyle, line 493 ('keymap.all_axes : a                 # enable all axes')\n",
      "You probably need to get an updated matplotlibrc file from\n",
      "https://github.com/matplotlib/matplotlib/blob/v3.5.3/matplotlibrc.template\n",
      "or from the matplotlib source distribution\n",
      "\n",
      "Bad key animation.avconv_path in file C:\\Miniconda3\\envs\\sps620env\\lib\\site-packages\\matplotlib\\mpl-data\\stylelib\\_classic_test.mplstyle, line 504 ('animation.avconv_path: avconv     # Path to avconv binary. Without full path')\n",
      "You probably need to get an updated matplotlibrc file from\n",
      "https://github.com/matplotlib/matplotlib/blob/v3.5.3/matplotlibrc.template\n",
      "or from the matplotlib source distribution\n",
      "\n",
      "Bad key animation.avconv_args in file C:\\Miniconda3\\envs\\sps620env\\lib\\site-packages\\matplotlib\\mpl-data\\stylelib\\_classic_test.mplstyle, line 506 ('animation.avconv_args:            # Additional arguments to pass to avconv')\n",
      "You probably need to get an updated matplotlibrc file from\n",
      "https://github.com/matplotlib/matplotlib/blob/v3.5.3/matplotlibrc.template\n",
      "or from the matplotlib source distribution\n"
     ]
    }
   ],
   "source": [
    "%matplotlib inline"
   ]
  },
  {
   "cell_type": "code",
   "execution_count": 2,
   "id": "ebc35ba3-68f1-4603-9f23-17e28a1885e2",
   "metadata": {},
   "outputs": [],
   "source": [
    "from IPython.core.interactiveshell import InteractiveShell\n",
    "InteractiveShell.ast_node_interactivity = \"all\""
   ]
  },
  {
   "cell_type": "code",
   "execution_count": 3,
   "id": "a2d34156-2b6f-4308-861a-7c511738753f",
   "metadata": {},
   "outputs": [],
   "source": [
    "import pandas as pd\n",
    "import numpy as np\n",
    "import networkx as nx\n",
    "import matplotlib.pyplot as plt\n",
    "import requests\n",
    "import seaborn as sns"
   ]
  },
  {
   "cell_type": "code",
   "execution_count": 4,
   "id": "b175c707-f059-4285-994a-6f7431393412",
   "metadata": {},
   "outputs": [
    {
     "data": {
      "text/plain": [
       "25178"
      ]
     },
     "execution_count": 4,
     "metadata": {},
     "output_type": "execute_result"
    }
   ],
   "source": [
    "e = nx.read_pajek(\"chapter1/egypt_retweets.net\")\n",
    "len(e)"
   ]
  },
  {
   "cell_type": "markdown",
   "id": "70a068b6-8dbc-45a4-9788-c6489a92dfa6",
   "metadata": {},
   "source": [
    "### Use _connected_components_ instead of _connected_component_subgraphs_ for new versions of NetworkX"
   ]
  },
  {
   "cell_type": "code",
   "execution_count": 5,
   "id": "acd72c24-f8f6-486e-adae-5cd671b55d5a",
   "metadata": {},
   "outputs": [
    {
     "data": {
      "text/plain": [
       "3122"
      ]
     },
     "execution_count": 5,
     "metadata": {},
     "output_type": "execute_result"
    }
   ],
   "source": [
    "len(list(nx.connected_components(e)))"
   ]
  },
  {
   "cell_type": "code",
   "execution_count": 6,
   "id": "65199641-ee08-460d-95dc-222ec7eb8e7b",
   "metadata": {},
   "outputs": [
    {
     "data": {
      "text/plain": [
       "(array([3.121e+03, 0.000e+00, 0.000e+00, 0.000e+00, 0.000e+00, 0.000e+00,\n",
       "        0.000e+00, 0.000e+00, 0.000e+00, 1.000e+00]),\n",
       " array([1.00000e+00, 1.77710e+03, 3.55320e+03, 5.32930e+03, 7.10540e+03,\n",
       "        8.88150e+03, 1.06576e+04, 1.24337e+04, 1.42098e+04, 1.59859e+04,\n",
       "        1.77620e+04]),\n",
       " <BarContainer object of 10 artists>)"
      ]
     },
     "execution_count": 6,
     "metadata": {},
     "output_type": "execute_result"
    },
    {
     "data": {
      "image/png": "[encoded data removed]",
      "text/plain": [
       "<Figure size 640x480 with 1 Axes>"
      ]
     },
     "metadata": {},
     "output_type": "display_data"
    }
   ],
   "source": [
    "x = [len(c) for c in nx.connected_components(e)]\n",
    "plt.hist(x)"
   ]
  },
  {
   "cell_type": "code",
   "execution_count": 7,
   "id": "38bb2fae-e4a7-4a13-bd39-47adc1199eae",
   "metadata": {},
   "outputs": [
    {
     "data": {
      "text/plain": [
       "[17762, 64, 16, 13, 11, 11, 14, 16]"
      ]
     },
     "execution_count": 7,
     "metadata": {},
     "output_type": "execute_result"
    }
   ],
   "source": [
    "[len(c) for c in nx.connected_components(e) if len(c) > 10]"
   ]
  },
  {
   "cell_type": "code",
   "execution_count": 8,
   "id": "3407efa5-f136-4638-ad3d-76bfa34cac45",
   "metadata": {},
   "outputs": [],
   "source": [
    "def trim_edges(g, weight=1):\n",
    "    \"\"\"\n",
    "    Takes a graph, and applies a threshold (“water level”), \n",
    "    letting all edges above a certain value through, and removing all others. \n",
    "    \n",
    "    It returns a copy of the original graph, so it’s non-destructive\n",
    "    \"\"\"\n",
    "    g2 = nx.Graph()\n",
    "    for f, to, edata in g.edges(data=True):\n",
    "        if edata['weight'] > weight:\n",
    "            g2.add_edge(f, to, **edata)\n",
    "    \n",
    "    return g2"
   ]
  },
  {
   "cell_type": "code",
   "execution_count": 9,
   "id": "6ad5cd10-81c2-460b-9845-6b21ea051c63",
   "metadata": {},
   "outputs": [],
   "source": [
    "def island_method(g, iterations=5):\n",
    "    weights = [edata['weight'] for f, to, edata in g.edges(data=True)]\n",
    "    mn = int(min(weights))\n",
    "    mx = int(max(weights))\n",
    "    # compute the size of the step, so we get a reasonable step in iterations\n",
    "    step = int((mx-mn)/iterations)\n",
    "    \n",
    "    return [[threshold, trim_edges(g, threshold)] for threshold in range(mn,mx,step)]"
   ]
  },
  {
   "cell_type": "markdown",
   "id": "d6f546ff-7143-4596-995b-dfe8d60e586d",
   "metadata": {},
   "source": [
    "### Convert the generator of connected components to a list (to mimic the book)"
   ]
  },
  {
   "cell_type": "code",
   "execution_count": 50,
   "id": "68a3bdc5-9adb-4f16-919f-ca5bb086682a",
   "metadata": {},
   "outputs": [],
   "source": [
    "subgraphs = list(nx.connected_components(e))"
   ]
  },
  {
   "cell_type": "code",
   "execution_count": 55,
   "id": "e7750ce8-d324-440f-8c8a-465caccd580f",
   "metadata": {},
   "outputs": [],
   "source": [
    "cc = e.subgraph(subgraphs[0])"
   ]
  },
  {
   "cell_type": "markdown",
   "id": "1c6d8370-6ea7-4574-a13d-1226aa60b136",
   "metadata": {},
   "source": [
    "### Apply the island method"
   ]
  },
  {
   "cell_type": "code",
   "execution_count": 56,
   "id": "4ea35d93-4114-4628-bdb5-3aac6906c34c",
   "metadata": {},
   "outputs": [],
   "source": [
    "# reate the induced subgraph of the component\n",
    "islands = island_method(e.subgraph(cc))"
   ]
  },
  {
   "cell_type": "code",
   "execution_count": 57,
   "id": "f8291e37-8613-4333-8883-1c35f9c1b88a",
   "metadata": {},
   "outputs": [
    {
     "name": "stdout",
     "output_type": "stream",
     "text": [
      "1 12360 314\n",
      "62 27 11\n",
      "123 8 3\n",
      "184 5 2\n",
      "245 5 2\n"
     ]
    }
   ],
   "source": [
    "for i in islands:\n",
    "    # print the threshold level, size of the graph, and number of connected components\n",
    "    print (i[0], len(i[1]), len(list(nx.connected_components(i[1]))))"
   ]
  },
  {
   "cell_type": "code",
   "execution_count": null,
   "id": "fc39379f-2187-4d9b-958b-b6b94cac82cc",
   "metadata": {},
   "outputs": [],
   "source": [
    "###########################"
   ]
  },
  {
   "cell_type": "code",
   "execution_count": 10,
   "id": "67dc9bfd-b48c-4aad-abaa-2df3a536dd2d",
   "metadata": {},
   "outputs": [
    {
     "data": {
      "text/plain": [
       "<generator object connected_components at 0x000001599537AB48>"
      ]
     },
     "execution_count": 10,
     "metadata": {},
     "output_type": "execute_result"
    }
   ],
   "source": [
    "nx.connected_components(e)"
   ]
  },
  {
   "cell_type": "code",
   "execution_count": 45,
   "id": "0f898827-12e1-4063-8647-3739e02e49b6",
   "metadata": {},
   "outputs": [
    {
     "name": "stdout",
     "output_type": "stream",
     "text": [
      "0 partager1973 PJCrowley {'weight': 3.0}\n",
      "1 RaoufRamahy esraa_ali {'weight': 1.0}\n",
      "2 annaberlin1983 arwasm {'weight': 1.0}\n",
      "3 alexander_drake Colvinius {'weight': 2.0}\n",
      "4 TwiddleEastNews alaa {'weight': 1.0}\n",
      "5 TwiddleEastNews ptypk {'weight': 1.0}\n",
      "6 TwiddleEastNews sharifkouddous {'weight': 2.0}\n",
      "7 TwiddleEastNews realrissa {'weight': 1.0}\n",
      "8 TwiddleEastNews _Sheri_Lynn_ {'weight': 1.0}\n",
      "9 TwiddleEastNews HerQ10 {'weight': 1.0}\n",
      "10 TwiddleEastNews stand4haq {'weight': 2.0}\n",
      "11 MartinaArapovic monaeltahawy {'weight': 2.0}\n"
     ]
    }
   ],
   "source": [
    "for i, (f, to, edata) in enumerate(e.subgraph(cc).edges(data=True)):\n",
    "    print(i, f, to, edata)\n",
    "    if i > 10: break"
   ]
  },
  {
   "cell_type": "code",
   "execution_count": 39,
   "id": "cef317fe-465b-4ae3-992c-c0866a4cb47e",
   "metadata": {},
   "outputs": [],
   "source": [
    "weights = [edata['weight'] for f, to, edata in e.subgraph(cc).edges(data=True)]"
   ]
  },
  {
   "cell_type": "code",
   "execution_count": 47,
   "id": "20eadcf1-01c5-4119-942b-faee99f7aa3a",
   "metadata": {},
   "outputs": [
    {
     "data": {
      "text/plain": [
       "\u001b[1;31mSignature:\u001b[0m \u001b[0me\u001b[0m\u001b[1;33m.\u001b[0m\u001b[0madd_edge\u001b[0m\u001b[1;33m(\u001b[0m\u001b[0mu_for_edge\u001b[0m\u001b[1;33m,\u001b[0m \u001b[0mv_for_edge\u001b[0m\u001b[1;33m,\u001b[0m \u001b[0mkey\u001b[0m\u001b[1;33m=\u001b[0m\u001b[1;32mNone\u001b[0m\u001b[1;33m,\u001b[0m \u001b[1;33m**\u001b[0m\u001b[0mattr\u001b[0m\u001b[1;33m)\u001b[0m\u001b[1;33m\u001b[0m\u001b[1;33m\u001b[0m\u001b[0m\n",
       "\u001b[1;31mDocstring:\u001b[0m\n",
       "Add an edge between u and v.\n",
       "\n",
       "The nodes u and v will be automatically added if they are\n",
       "not already in the graph.\n",
       "\n",
       "Edge attributes can be specified with keywords or by directly\n",
       "accessing the edge's attribute dictionary. See examples below.\n",
       "\n",
       "Parameters\n",
       "----------\n",
       "u_for_edge, v_for_edge : nodes\n",
       "    Nodes can be, for example, strings or numbers.\n",
       "    Nodes must be hashable (and not None) Python objects.\n",
       "key : hashable identifier, optional (default=lowest unused integer)\n",
       "    Used to distinguish multiedges between a pair of nodes.\n",
       "attr : keyword arguments, optional\n",
       "    Edge data (or labels or objects) can be assigned using\n",
       "    keyword arguments.\n",
       "\n",
       "Returns\n",
       "-------\n",
       "The edge key assigned to the edge.\n",
       "\n",
       "See Also\n",
       "--------\n",
       "add_edges_from : add a collection of edges\n",
       "\n",
       "Notes\n",
       "-----\n",
       "To replace/update edge data, use the optional key argument\n",
       "to identify a unique edge.  Otherwise a new edge will be created.\n",
       "\n",
       "NetworkX algorithms designed for weighted graphs cannot use\n",
       "multigraphs directly because it is not clear how to handle\n",
       "multiedge weights.  Convert to Graph using edge attribute\n",
       "'weight' to enable weighted graph algorithms.\n",
       "\n",
       "Default keys are generated using the method `new_edge_key()`.\n",
       "This method can be overridden by subclassing the base class and\n",
       "providing a custom `new_edge_key()` method.\n",
       "\n",
       "Examples\n",
       "--------\n",
       "The following each add an additional edge e=(1, 2) to graph G:\n",
       "\n",
       ">>> G = nx.MultiGraph()\n",
       ">>> e = (1, 2)\n",
       ">>> ekey = G.add_edge(1, 2)  # explicit two-node form\n",
       ">>> G.add_edge(*e)  # single edge as tuple of two nodes\n",
       "1\n",
       ">>> G.add_edges_from([(1, 2)])  # add edges from iterable container\n",
       "[2]\n",
       "\n",
       "Associate data to edges using keywords:\n",
       "\n",
       ">>> ekey = G.add_edge(1, 2, weight=3)\n",
       ">>> ekey = G.add_edge(1, 2, key=0, weight=4)  # update data for key=0\n",
       ">>> ekey = G.add_edge(1, 3, weight=7, capacity=15, length=342.7)\n",
       "\n",
       "For non-string attribute keys, use subscript notation.\n",
       "\n",
       ">>> ekey = G.add_edge(1, 2)\n",
       ">>> G[1][2][0].update({0: 5})\n",
       ">>> G.edges[1, 2, 0].update({0: 5})\n",
       "\u001b[1;31mFile:\u001b[0m      c:\\miniconda3\\envs\\workenv\\lib\\site-packages\\networkx\\classes\\multigraph.py\n",
       "\u001b[1;31mType:\u001b[0m      method\n"
      ]
     },
     "metadata": {},
     "output_type": "display_data"
    }
   ],
   "source": [
    "e.add_edge?"
   ]
  },
  {
   "cell_type": "code",
   "execution_count": 30,
   "id": "e20a4ba1-47cd-48d6-a182-e6702745800a",
   "metadata": {},
   "outputs": [
    {
     "data": {
      "text/plain": [
       "\u001b[1;31mSignature:\u001b[0m \u001b[0mnx\u001b[0m\u001b[1;33m.\u001b[0m\u001b[0mconnected_components\u001b[0m\u001b[1;33m(\u001b[0m\u001b[0mG\u001b[0m\u001b[1;33m)\u001b[0m\u001b[1;33m\u001b[0m\u001b[1;33m\u001b[0m\u001b[0m\n",
       "\u001b[1;31mDocstring:\u001b[0m\n",
       "Generate connected components.\n",
       "\n",
       "Parameters\n",
       "----------\n",
       "G : NetworkX graph\n",
       "   An undirected graph\n",
       "\n",
       "Returns\n",
       "-------\n",
       "comp : generator of sets\n",
       "   A generator of sets of nodes, one for each component of G.\n",
       "\n",
       "Raises\n",
       "------\n",
       "NetworkXNotImplemented\n",
       "    If G is directed.\n",
       "\n",
       "Examples\n",
       "--------\n",
       "Generate a sorted list of connected components, largest first.\n",
       "\n",
       ">>> G = nx.path_graph(4)\n",
       ">>> nx.add_path(G, [10, 11, 12])\n",
       ">>> [len(c) for c in sorted(nx.connected_components(G), key=len, reverse=True)]\n",
       "[4, 3]\n",
       "\n",
       "If you only want the largest connected component, it's more\n",
       "efficient to use max instead of sort.\n",
       "\n",
       ">>> largest_cc = max(nx.connected_components(G), key=len)\n",
       "\n",
       "To create the induced subgraph of each component use:\n",
       "\n",
       ">>> S = [G.subgraph(c).copy() for c in nx.connected_components(G)]\n",
       "\n",
       "See Also\n",
       "--------\n",
       "strongly_connected_components\n",
       "weakly_connected_components\n",
       "\n",
       "Notes\n",
       "-----\n",
       "For undirected graphs only.\n",
       "\u001b[1;31mFile:\u001b[0m      c:\\miniconda3\\envs\\workenv\\lib\\site-packages\\networkx\\algorithms\\components\\connected.py\n",
       "\u001b[1;31mType:\u001b[0m      function\n"
      ]
     },
     "metadata": {},
     "output_type": "display_data"
    }
   ],
   "source": [
    "nx.connected_components?"
   ]
  },
  {
   "cell_type": "code",
   "execution_count": 58,
   "id": "385712fa-e886-4849-9ed2-97826423a4cb",
   "metadata": {},
   "outputs": [
    {
     "data": {
      "text/plain": [
       "<networkx.classes.multigraph.MultiGraph at 0x1c099bd5300>"
      ]
     },
     "execution_count": 58,
     "metadata": {},
     "output_type": "execute_result"
    }
   ],
   "source": [
    "nx.ego_graph(cc, 'justinbieber')"
   ]
  },
  {
   "cell_type": "code",
   "execution_count": 72,
   "id": "fb459cb1-f02f-480e-92b3-b139383836a4",
   "metadata": {},
   "outputs": [
    {
     "data": {
      "text/plain": [
       "22"
      ]
     },
     "execution_count": 72,
     "metadata": {},
     "output_type": "execute_result"
    },
    {
     "data": {
      "text/plain": [
       "0.12727272727272726"
      ]
     },
     "execution_count": 72,
     "metadata": {},
     "output_type": "execute_result"
    }
   ],
   "source": [
    "## we need to convert the ego network from a Multi-graph to a simple Graph\n",
    "bieb = nx.Graph(nx.ego_graph(cc, 'justinbieber', radius=2))\n",
    "len(bieb)\n",
    "\n",
    "nx.average_clustering(bieb)"
   ]
  },
  {
   "cell_type": "code",
   "execution_count": 71,
   "id": "30bc8933-34b2-45e7-bac1-3d76ac6cefb6",
   "metadata": {},
   "outputs": [
    {
     "data": {
      "text/plain": [
       "3450"
      ]
     },
     "execution_count": 71,
     "metadata": {},
     "output_type": "execute_result"
    },
    {
     "data": {
      "text/plain": [
       "0.04332254475699308"
      ]
     },
     "execution_count": 71,
     "metadata": {},
     "output_type": "execute_result"
    }
   ],
   "source": [
    "ghonim = nx.Graph(nx.ego_graph(cc, 'Ghonim', radius=2))\n",
    "len(ghonim)\n",
    "\n",
    "nx.average_clustering(ghonim)"
   ]
  },
  {
   "cell_type": "code",
   "execution_count": 65,
   "id": "9e709b3d-dd0f-4ba9-9416-731da18fd67e",
   "metadata": {},
   "outputs": [
    {
     "data": {
      "text/plain": [
       "\u001b[1;31mSignature:\u001b[0m \u001b[0mnx\u001b[0m\u001b[1;33m.\u001b[0m\u001b[0maverage_clustering\u001b[0m\u001b[1;33m(\u001b[0m\u001b[0mG\u001b[0m\u001b[1;33m,\u001b[0m \u001b[0mnodes\u001b[0m\u001b[1;33m=\u001b[0m\u001b[1;32mNone\u001b[0m\u001b[1;33m,\u001b[0m \u001b[0mweight\u001b[0m\u001b[1;33m=\u001b[0m\u001b[1;32mNone\u001b[0m\u001b[1;33m,\u001b[0m \u001b[0mcount_zeros\u001b[0m\u001b[1;33m=\u001b[0m\u001b[1;32mTrue\u001b[0m\u001b[1;33m)\u001b[0m\u001b[1;33m\u001b[0m\u001b[1;33m\u001b[0m\u001b[0m\n",
       "\u001b[1;31mDocstring:\u001b[0m\n",
       "Compute the average clustering coefficient for the graph G.\n",
       "\n",
       "The clustering coefficient for the graph is the average,\n",
       "\n",
       ".. math::\n",
       "\n",
       "   C = \\frac{1}{n}\\sum_{v \\in G} c_v,\n",
       "\n",
       "where :math:`n` is the number of nodes in `G`.\n",
       "\n",
       "Parameters\n",
       "----------\n",
       "G : graph\n",
       "\n",
       "nodes : container of nodes, optional (default=all nodes in G)\n",
       "   Compute average clustering for nodes in this container.\n",
       "\n",
       "weight : string or None, optional (default=None)\n",
       "   The edge attribute that holds the numerical value used as a weight.\n",
       "   If None, then each edge has weight 1.\n",
       "\n",
       "count_zeros : bool\n",
       "   If False include only the nodes with nonzero clustering in the average.\n",
       "\n",
       "Returns\n",
       "-------\n",
       "avg : float\n",
       "   Average clustering\n",
       "\n",
       "Examples\n",
       "--------\n",
       ">>> G = nx.complete_graph(5)\n",
       ">>> print(nx.average_clustering(G))\n",
       "1.0\n",
       "\n",
       "Notes\n",
       "-----\n",
       "This is a space saving routine; it might be faster\n",
       "to use the clustering function to get a list and then take the average.\n",
       "\n",
       "Self loops are ignored.\n",
       "\n",
       "References\n",
       "----------\n",
       ".. [1] Generalizations of the clustering coefficient to weighted\n",
       "   complex networks by J. Saramäki, M. Kivelä, J.-P. Onnela,\n",
       "   K. Kaski, and J. Kertész, Physical Review E, 75 027105 (2007).\n",
       "   http://jponnela.com/web_documents/a9.pdf\n",
       ".. [2] Marcus Kaiser,  Mean clustering coefficients: the role of isolated\n",
       "   nodes and leafs on clustering measures for small-world networks.\n",
       "   https://arxiv.org/abs/0802.2512\n",
       "\u001b[1;31mFile:\u001b[0m      c:\\miniconda3\\envs\\workenv\\lib\\site-packages\\networkx\\algorithms\\cluster.py\n",
       "\u001b[1;31mType:\u001b[0m      function\n"
      ]
     },
     "metadata": {},
     "output_type": "display_data"
    }
   ],
   "source": [
    "nx.average_clustering?"
   ]
  },
  {
   "cell_type": "code",
   "execution_count": null,
   "id": "603f6001-ccc8-4d44-ae95-20093556ce3f",
   "metadata": {},
   "outputs": [],
   "source": []
  }
 ],
 "metadata": {
  "kernelspec": {
   "display_name": "Python 3 (ipykernel)",
   "language": "python",
   "name": "python3"
  },
  "language_info": {
   "codemirror_mode": {
    "name": "ipython",
    "version": 3
   },
   "file_extension": ".py",
   "mimetype": "text/x-python",
   "name": "python",
   "nbconvert_exporter": "python",
   "pygments_lexer": "ipython3",
   "version": "3.7.16"
  }
 },
 "nbformat": 4,
 "nbformat_minor": 5
}
